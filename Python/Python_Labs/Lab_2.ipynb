{
 "cells": [
  {
   "cell_type": "markdown",
   "id": "063adca0",
   "metadata": {},
   "source": [
    "## ● Write a function that accepts two arguments (length, start) to generate an array of a specific length filled with integer numbers increased by one from start."
   ]
  },
  {
   "cell_type": "code",
   "execution_count": 1,
   "id": "fe411a23",
   "metadata": {},
   "outputs": [
    {
     "name": "stdout",
     "output_type": "stream",
     "text": [
      "[10, 11, 12, 13, 14]\n"
     ]
    }
   ],
   "source": [
    "def generate_array(length, start):\n",
    "    l=[]\n",
    "    for i in range(length):\n",
    "        l.append(start + i)\n",
    "    return l    \n",
    "\n",
    "# Test Our Code\n",
    "length_of_array = 5\n",
    "starting_point = 10\n",
    "\n",
    "result_array = generate_array(length_of_array, starting_point)\n",
    "print(result_array)"
   ]
  },
  {
   "cell_type": "markdown",
   "id": "be9db338",
   "metadata": {},
   "source": [
    "## ● write a function that takes a number as an argument and if the number divisible by 3 return \"Fizz\" and if it is divisible by 5 return \"buzz\" and if is is divisible by both return \"FizzBuzz\"\n"
   ]
  },
  {
   "cell_type": "code",
   "execution_count": 14,
   "id": "89565ab0",
   "metadata": {},
   "outputs": [
    {
     "name": "stdout",
     "output_type": "stream",
     "text": [
      "Plz Enter Any Number : 5\n",
      "Buzz\n"
     ]
    }
   ],
   "source": [
    "def check_Divisable(number):\n",
    "    if isinstance(number,int):\n",
    "        if number%3==0 and number%5==0 :\n",
    "            return \"FizzBuzz\"\n",
    "        elif number%5==0:\n",
    "            return \"Buzz\"\n",
    "        elif number%3==0:\n",
    "            return \"Fizz\"\n",
    "    else:\n",
    "        return\"Plz Enter a Number NOT Anything else\"\n",
    "        \n",
    "# Test Our Function\n",
    "num=int(input(\"Plz Enter Any Number : \"))\n",
    "print(check_Divisable(num))"
   ]
  },
  {
   "cell_type": "markdown",
   "id": "d7d3ff69",
   "metadata": {},
   "source": [
    "## ● Write a function which has an input of a string from user then it will return the same string reversed."
   ]
  },
  {
   "cell_type": "code",
   "execution_count": 12,
   "id": "bcdf746d",
   "metadata": {},
   "outputs": [
    {
     "name": "stdout",
     "output_type": "stream",
     "text": [
      "Enter a string: AMGAAAAD\n",
      "Reversed String: DAAAAGMA\n"
     ]
    }
   ],
   "source": [
    "def reverse_string(input_string):\n",
    "    return input_string[::-1]\n",
    "\n",
    "# Test Our Code\n",
    "user_input = input(\"Enter a string: \")\n",
    "reversed_result = reverse_string(user_input)\n",
    "print(\"Reversed String:\", reversed_result)"
   ]
  },
  {
   "cell_type": "markdown",
   "id": "c82c1721",
   "metadata": {},
   "source": [
    "## ● Ask the user for his name then confirm that he has entered his name(not an empty string/integers). then proceed to ask him for his email and print all this data (Bonus) check if it is a valid email or not"
   ]
  },
  {
   "cell_type": "code",
   "execution_count": 33,
   "id": "4485c2dc",
   "metadata": {},
   "outputs": [
    {
     "name": "stdout",
     "output_type": "stream",
     "text": [
      "Enter your name:  \n",
      "Please Enter a valid Name Again : \n",
      "amgad\n",
      "Enter your email: rtyu\n",
      "Please Enter a valid email Again : \n",
      "amgad2650@gmail.com\n",
      "\n",
      "User Information:\n",
      "Name: amgad\n",
      "Email: amgad2650@gmail.com\n"
     ]
    }
   ],
   "source": [
    "import re\n",
    "\n",
    "def is_valid_email(email):\n",
    "    # Regular Expression For Email\n",
    "    pattern = re.compile(r\"^([a-zA-Z0-9_\\-\\.]+)@([a-zA-Z0-9_\\-\\.]+)\\.([a-zA-Z]{2,5})$\")\n",
    "    return bool(re.match(pattern, email))\n",
    "\n",
    "# Name Input From User\n",
    "name = input(\"Enter your name: \")\n",
    "\n",
    "# Check Is NON Empty or NOT ?\n",
    "while not name.strip() or name.isdigit():\n",
    "    print(\"Please Enter a valid Name Again : \")\n",
    "    name = input()\n",
    "\n",
    "# Email Input From User\n",
    "user_email = input(\"Enter your email: \")\n",
    "\n",
    "# Check if the entered email is valid or NOT \n",
    "while not is_valid_email(user_email):\n",
    "    print(\"Please Enter a valid email Again : \")\n",
    "    user_email = input()\n",
    "\n",
    "# Now Will Test Our function \n",
    "print(\"\\nUser Information:\")\n",
    "print(\"Name:\", name)\n",
    "print(\"Email:\", user_email)\n"
   ]
  },
  {
   "cell_type": "markdown",
   "id": "e33ef4dc",
   "metadata": {},
   "source": [
    "## ● Write a function that takes a string and prints the longest alphabetical ordered substring occurred For example, if the string is 'abdulrahman' then the output is: Longest substring in alphabetical order is: abdu\n"
   ]
  },
  {
   "cell_type": "code",
   "execution_count": 2,
   "id": "ac4eb983",
   "metadata": {},
   "outputs": [
    {
     "name": "stdout",
     "output_type": "stream",
     "text": [
      "The Longest substring is : abdu\n"
     ]
    }
   ],
   "source": [
    "def longest_alphabetical_substring(s):\n",
    "    current_substring = s[0]\n",
    "    longest_substring = s[0]\n",
    "    for i in range(1, len(s)):\n",
    "        if s[i] >= s[i-1]:\n",
    "            current_substring += s[i]\n",
    "            #print(current_substring)==> Test Only\n",
    "        else:\n",
    "            current_substring = s[i]\n",
    "            #print(current_substring)==> Test Only\n",
    "        # Update Longest ....\n",
    "        if len(current_substring) > len(longest_substring):\n",
    "            longest_substring = current_substring\n",
    "\n",
    "    print(f\"The Longest substring is : {longest_substring}\")\n",
    "\n",
    "# Test ..\n",
    "input_string = 'abdulrahman'\n",
    "longest_alphabetical_substring(input_string)\n"
   ]
  },
  {
   "cell_type": "markdown",
   "id": "dc44838e",
   "metadata": {},
   "source": [
    "## ● Write a program which repeatedly reads numbers until the user enters “done”.○ Once “done” is entered, print out the total, count, and average of the numbers.○ If the user enters anything other than a number, detect their mistake, print an error message and skip to the next number.\n"
   ]
  },
  {
   "cell_type": "code",
   "execution_count": 30,
   "id": "50186ac8",
   "metadata": {},
   "outputs": [
    {
     "name": "stdout",
     "output_type": "stream",
     "text": [
      "Enter a Number OR 'Done' to END your Program): 1\n",
      "Enter a Number OR 'Done' to END your Program): 2\n",
      "Enter a Number OR 'Done' to END your Program): 3\n",
      "Enter a Number OR 'Done' to END your Program): 4\n",
      "Enter a Number OR 'Done' to END your Program): 5\n",
      "Enter a Number OR 'Done' to END your Program): done\n",
      "\n",
      "Total: 15\n",
      "Count: 5\n",
      "Average: 3.0\n"
     ]
    }
   ],
   "source": [
    "total = 0\n",
    "count = 0\n",
    "\n",
    "while True:\n",
    "    user_input = input(\"Enter a Number OR 'Done' to END your Program): \")\n",
    "    if user_input.lower() == 'done':\n",
    "        break\n",
    "\n",
    "    if user_input.isdigit():\n",
    "        number = int(user_input)\n",
    "        total += number\n",
    "        count += 1\n",
    "    else:\n",
    "        print(\"Invalid input Please enter a valid number\")\n",
    "\n",
    "if count > 0:\n",
    "    average = total / count\n",
    "    print(f\"\\nTotal: {total}\")\n",
    "    print(f\"Count: {count}\")\n",
    "    print(f\"Average: {average}\")\n",
    "else:\n",
    "    print(\"No valid numbers entered.\")\n"
   ]
  },
  {
   "cell_type": "markdown",
   "id": "77252ac7",
   "metadata": {},
   "source": [
    "## ● Word guessing game (hangman)\n",
    "## ○ A list of words will be hardcoded in your program, out of which the interpreter will\n",
    "## ○ choose 1 random word.\n",
    "## ○ The user first must input their names\n",
    "## ○ Ask the user to guess any alphabet. If the random word contains that alphabet, it\n",
    "## ○ will be shown as the output(with correct placement)\n",
    "## ○ Else the program will ask you to guess another alphabet.\n",
    "## ○ Give 7 turns maximum to guess the complete word"
   ]
  },
  {
   "cell_type": "code",
   "execution_count": 34,
   "id": "7c1fd063",
   "metadata": {},
   "outputs": [
    {
     "name": "stdout",
     "output_type": "stream",
     "text": [
      "Welcome to Hangman Game :) \n",
      "Enter your name: amgad\n",
      "Try to guess the word.\n",
      "\n",
      "Current word: _____\n",
      "Guess a letter: a\n",
      "Good guess!\n",
      "\n",
      "Current word: a__a_\n",
      "Guess a letter: m\n",
      "Good guess!\n",
      "\n",
      "Current word: am_a_\n",
      "Guess a letter: m\n",
      "You already guessed that letter. Try again.\n",
      "\n",
      "Current word: am_a_\n",
      "Guess a letter: s\n",
      "Incorrect guess. Try again.\n",
      "\n",
      "Current word: am_a_\n",
      "Guess a letter: s\n",
      "Incorrect guess. Try again.\n",
      "\n",
      "Current word: am_a_\n",
      "Guess a letter: w\n",
      "Incorrect guess. Try again.\n",
      "\n",
      "Current word: am_a_\n",
      "Guess a letter: e\n",
      "Incorrect guess. Try again.\n",
      "\n",
      "Current word: am_a_\n",
      "Guess a letter: e\n",
      "Incorrect guess. Try again.\n",
      "\n",
      "Current word: am_a_\n",
      "Guess a letter: e\n",
      "Incorrect guess. Try again.\n",
      "\n",
      "Current word: am_a_\n",
      "Guess a letter: e\n",
      "Incorrect guess. Try again.\n",
      "\n",
      "Sorry, amgad. You ran out of attempts. The word was: amgad\n"
     ]
    }
   ],
   "source": [
    "import random\n",
    "\n",
    "def random_word():\n",
    "    words = [\"apple\", \"banana\", \"programming\", \"python\", \"computer\", \"amgad\"]\n",
    "    return random.choice(words)\n",
    "\n",
    "def display_word(word, guessed_letters):\n",
    "    display = \"\"\n",
    "    for letter in word:\n",
    "        if letter in guessed_letters:\n",
    "            display += letter\n",
    "        else:\n",
    "            display += \"_\"\n",
    "    return display\n",
    "\n",
    "def hangman_game():\n",
    "    print(\"Welcome to Hangman Game :) \")\n",
    "\n",
    "    # Name\n",
    "    player_name = input(\"Enter your name: \")\n",
    "\n",
    "    # random word\n",
    "    secret_word = random_word()\n",
    "    guessed_letters = []\n",
    "    attempts_left = 7\n",
    "\n",
    "    print(\"Try to guess the word.\")\n",
    "\n",
    "    while attempts_left > 0:\n",
    "        # State of the word\n",
    "        current_display = display_word(secret_word, guessed_letters)\n",
    "        print(f\"\\nCurrent word: {current_display}\")\n",
    "\n",
    "        # guess a letter\n",
    "        guess = input(\"Guess a letter: \").lower()\n",
    "\n",
    "        # guessed letter is in the word\n",
    "        if guess.isalpha() and len(guess) == 1:\n",
    "            if guess in guessed_letters:\n",
    "                print(\"You guessed that before Try again\")\n",
    "            elif guess in secret_word:\n",
    "                print(\"Correct guess!\")\n",
    "                guessed_letters.append(guess)\n",
    "            else:\n",
    "                print(\"Incorrect guess try again.\")\n",
    "                attempts_left -= 1\n",
    "        else:\n",
    "            print(\"Please enter a valid single letter\")\n",
    "\n",
    "        #  guessed the entire word correct or not\n",
    "        if \"_\" not in display_word(secret_word, guessed_letters):\n",
    "            print(f\"\\nCongratulations, {player_name}! You guessed the word: {secret_word}\")\n",
    "            break\n",
    "\n",
    "    if attempts_left == 0:\n",
    "        print(f\"\\nSorry, {player_name} You ran out of attempt The word was: {secret_word}\")\n",
    "\n",
    "\n",
    "if \"__name__\" == \"__main__\":\n",
    "    hangman_game()\n"
   ]
  },
  {
   "cell_type": "code",
   "execution_count": 3,
   "id": "451f07f7",
   "metadata": {},
   "outputs": [
    {
     "name": "stdout",
     "output_type": "stream",
     "text": [
      "4\n"
     ]
    }
   ],
   "source": [
    "def x(n):\n",
    "    return n\n",
    "if __name__ == \"__main__\":\n",
    "    print(x(4))"
   ]
  },
  {
   "cell_type": "code",
   "execution_count": null,
   "id": "2f3a7c50",
   "metadata": {},
   "outputs": [],
   "source": []
  }
 ],
 "metadata": {
  "kernelspec": {
   "display_name": "Python 3",
   "language": "python",
   "name": "python3"
  },
  "language_info": {
   "codemirror_mode": {
    "name": "ipython",
    "version": 3
   },
   "file_extension": ".py",
   "mimetype": "text/x-python",
   "name": "python",
   "nbconvert_exporter": "python",
   "pygments_lexer": "ipython3",
   "version": "3.8.3"
  }
 },
 "nbformat": 4,
 "nbformat_minor": 5
}
