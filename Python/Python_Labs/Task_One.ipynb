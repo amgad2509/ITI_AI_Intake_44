{
 "cells": [
  {
   "cell_type": "markdown",
   "id": "5801ad65",
   "metadata": {},
   "source": [
    "## Write a program that counts up the number of vowels [a, e, i, o,  u] contained in the string."
   ]
  },
  {
   "cell_type": "code",
   "execution_count": 2,
   "id": "c4992475",
   "metadata": {},
   "outputs": [
    {
     "name": "stdout",
     "output_type": "stream",
     "text": [
      "Please Enter the String : Amgad Mohamed \n",
      "The number of vowels in the string is: 5\n"
     ]
    }
   ],
   "source": [
    "input_string=input(\"Please Enter the String : \")\n",
    "vowels = \"aeiou\"\n",
    "count = 0\n",
    "for char in input_string:\n",
    "    if char.lower() in vowels:\n",
    "        count += 1\n",
    "print(f\"The number of vowels in the string is: {count}\")"
   ]
  },
  {
   "cell_type": "markdown",
   "id": "9c8f49a0",
   "metadata": {},
   "source": [
    "## Fill an array of 5 elements from the user, Sort it in descending and ascending orders then display the output.\n"
   ]
  },
  {
   "cell_type": "code",
   "execution_count": 45,
   "id": "e215462b",
   "metadata": {},
   "outputs": [
    {
     "name": "stdout",
     "output_type": "stream",
     "text": [
      "Enter element 1: 1\n",
      "Enter element 2: 23\n",
      "Enter element 3: 3\n",
      "Enter element 4: 5\n",
      "Enter element 5: 8\n",
      "Ascending Order: [1, 3, 5, 8, 23]\n",
      "Descending Order: [23, 8, 5, 3, 1]\n"
     ]
    }
   ],
   "source": [
    "user_array = []\n",
    "for i in range(5):\n",
    "    element = input(f\"Enter element {i + 1}: \")\n",
    "    if element.isdigit():\n",
    "        user_array.append(int(element))\n",
    "    else:\n",
    "        user_array.append(element)\n",
    "# Sort the Array \n",
    "user_array.sort()\n",
    "ascending_order = user_array.copy()  \n",
    "user_array.sort(reverse=True)\n",
    "descending_order = user_array.copy()  \n",
    "\n",
    "# Test Our code\n",
    "print(\"Ascending Order:\", ascending_order)\n",
    "print(\"Descending Order:\", descending_order)\n"
   ]
  },
  {
   "cell_type": "markdown",
   "id": "7476b5bf",
   "metadata": {},
   "source": [
    "## Write a program that prints the number of times the string 'iti' occurs in anystring."
   ]
  },
  {
   "cell_type": "code",
   "execution_count": 22,
   "id": "5134ed82",
   "metadata": {},
   "outputs": [
    {
     "name": "stdout",
     "output_type": "stream",
     "text": [
      "The number of occurrences of 'iti' in the string is: 4\n"
     ]
    }
   ],
   "source": [
    "input_string = \"iti iti iti iti \"\n",
    "target_substring = \"iti\"\n",
    "\n",
    "count = input_string.count(target_substring)\n",
    "\n",
    "print(f\"The number of occurrences of '{target_substring}' in the string is: {count}\")\n"
   ]
  },
  {
   "cell_type": "markdown",
   "id": "25d403bf",
   "metadata": {},
   "source": [
    "## Write a program that remove all vowels from the input word and generate a brief version of it."
   ]
  },
  {
   "cell_type": "code",
   "execution_count": 30,
   "id": "20a5eb02",
   "metadata": {},
   "outputs": [
    {
     "name": "stdout",
     "output_type": "stream",
     "text": [
      "Please Enter the String: amgaaad mohaaamed\n",
      "The new String After Removing Vowels is: mgd mhmd\n"
     ]
    }
   ],
   "source": [
    "input_string = input(\"Please Enter the String: \")\n",
    "vowels = \"aeiou\"\n",
    "\n",
    "new_string = \"\"\n",
    "\n",
    "for char in input_string:\n",
    "    if char.lower() not in vowels:\n",
    "        new_string += char\n",
    "\n",
    "print(f\"The new String After Removing Vowels is: {new_string}\")\n"
   ]
  },
  {
   "cell_type": "markdown",
   "id": "86c93e05",
   "metadata": {},
   "source": [
    "## ● Write a program that generate a multiplication table from 1 to the number passed"
   ]
  },
  {
   "cell_type": "code",
   "execution_count": 44,
   "id": "e9066f28",
   "metadata": {},
   "outputs": [
    {
     "name": "stdout",
     "output_type": "stream",
     "text": [
      "Enter a number to generate a multiplication table: 5\n",
      "\n",
      "Multiplication table for 1:\n",
      "1 x 1 = 1\n",
      "\n",
      "Multiplication table for 2:\n",
      "2 x 1 = 2\n",
      "2 x 2 = 4\n",
      "\n",
      "Multiplication table for 3:\n",
      "3 x 1 = 3\n",
      "3 x 2 = 6\n",
      "3 x 3 = 9\n",
      "\n",
      "Multiplication table for 4:\n",
      "4 x 1 = 4\n",
      "4 x 2 = 8\n",
      "4 x 3 = 12\n",
      "4 x 4 = 16\n",
      "\n",
      "Multiplication table for 5:\n",
      "5 x 1 = 5\n",
      "5 x 2 = 10\n",
      "5 x 3 = 15\n",
      "5 x 4 = 20\n",
      "5 x 5 = 25\n"
     ]
    }
   ],
   "source": [
    "input_number = int(input(\"Enter a number to generate a multiplication table: \"))\n",
    "if input_number!=0:\n",
    "    for i in range(1, input_number + 1):\n",
    "        print(f\"\\nMultiplication table for {i}:\")\n",
    "        for j in range(1, i+1):\n",
    "            result = i * j\n",
    "            print(f\"{i} x {j} = {result}\")\n",
    "else:\n",
    "    print(\"Plz Enter Vailid Number NOT ZERO\")"
   ]
  },
  {
   "cell_type": "markdown",
   "id": "022a86de",
   "metadata": {},
   "source": [
    "## ● Write a program that build a Mario pyramid like below:"
   ]
  },
  {
   "cell_type": "code",
   "execution_count": 43,
   "id": "d14028f0",
   "metadata": {},
   "outputs": [
    {
     "name": "stdout",
     "output_type": "stream",
     "text": [
      "        * \n",
      "      * * \n",
      "    * * * \n",
      "  * * * * \n",
      "* * * * * \n"
     ]
    }
   ],
   "source": [
    "for i in range(pyramid_height):\n",
    "    for j in range(pyramid_height - i - 1):\n",
    "        print(\" \", end=\" \")\n",
    "    for k in range(i + 1):\n",
    "        print(\"*\", end=\" \")\n",
    "    print()"
   ]
  },
  {
   "cell_type": "code",
   "execution_count": null,
   "id": "6a09c248",
   "metadata": {},
   "outputs": [],
   "source": []
  }
 ],
 "metadata": {
  "kernelspec": {
   "display_name": "Python 3",
   "language": "python",
   "name": "python3"
  },
  "language_info": {
   "codemirror_mode": {
    "name": "ipython",
    "version": 3
   },
   "file_extension": ".py",
   "mimetype": "text/x-python",
   "name": "python",
   "nbconvert_exporter": "python",
   "pygments_lexer": "ipython3",
   "version": "3.8.3"
  }
 },
 "nbformat": 4,
 "nbformat_minor": 5
}
